{
 "cells": [
  {
   "cell_type": "code",
   "execution_count": 5,
   "metadata": {
    "collapsed": true
   },
   "outputs": [],
   "source": [
    "import numpy as np"
   ]
  },
  {
   "cell_type": "code",
   "execution_count": 11,
   "metadata": {},
   "outputs": [],
   "source": [
    "def randword():\n",
    "    WL=np.random.randint(3,20)\n",
    "    return \"\".join([chr(np.random.randint(65,65+26)) for x in range(WL)])\n",
    "    \n",
    "solution=list()\n",
    "with open('ques7','w+') as f:\n",
    "    data=f.read()\n",
    "    i=0\n",
    "    while i < 10000:\n",
    "        i+=1\n",
    "        NF=np.random.randint(3,100)\n",
    "        for k in range(NF):\n",
    "            randw=randword()\n",
    "            f.write(randw)\n",
    "            if k+1 == NF:\n",
    "                solution.append(randw)\n",
    "            else:\n",
    "                f.write(' ')\n",
    "        f.write('\\n')\n",
    "    \n",
    "\n",
    "    \n",
    "with open('ques7s','w+') as f:\n",
    "    for a in solution:\n",
    "        f.write(a+\"\\n\")"
   ]
  },
  {
   "cell_type": "code",
   "execution_count": 14,
   "metadata": {},
   "outputs": [],
   "source": []
  },
  {
   "cell_type": "code",
   "execution_count": null,
   "metadata": {
    "collapsed": true
   },
   "outputs": [],
   "source": []
  }
 ],
 "metadata": {
  "kernelspec": {
   "display_name": "Python 3",
   "language": "python",
   "name": "python3"
  },
  "language_info": {
   "codemirror_mode": {
    "name": "ipython",
    "version": 3
   },
   "file_extension": ".py",
   "mimetype": "text/x-python",
   "name": "python",
   "nbconvert_exporter": "python",
   "pygments_lexer": "ipython3",
   "version": "3.6.3"
  }
 },
 "nbformat": 4,
 "nbformat_minor": 2
}
