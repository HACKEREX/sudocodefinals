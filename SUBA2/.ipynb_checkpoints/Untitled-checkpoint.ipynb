{
 "cells": [
  {
   "cell_type": "code",
   "execution_count": 19,
   "metadata": {
    "collapsed": true
   },
   "outputs": [],
   "source": [
    "import os\n",
    "import numpy as np"
   ]
  },
  {
   "cell_type": "code",
   "execution_count": 26,
   "metadata": {},
   "outputs": [],
   "source": [
    "def fileex():\n",
    "    WL=np.random.randint(2,10)\n",
    "    fn=str(\"\".join([chr(np.random.randint(65,65+26)) for x in range(WL)])+\".\")\n",
    "    fn=str(fn+\"\".join([chr(np.random.randint(65,65+3)) for x in range(3)]))\n",
    "    return fn\n",
    "\n",
    "\n",
    "path='RECURSIVE/RECURSIVE2/RECURSIVE3/RECURSIVE4'\n",
    "\n",
    "if not os.path.exists(path):\n",
    "    os.makedirs(path)\n",
    "    \n",
    "    \n",
    "for i in range(20):\n",
    "    f=open(fileex(),'w+')\n",
    "    f.close()"
   ]
  },
  {
   "cell_type": "code",
   "execution_count": null,
   "metadata": {
    "collapsed": true
   },
   "outputs": [],
   "source": []
  }
 ],
 "metadata": {
  "kernelspec": {
   "display_name": "Python 3",
   "language": "python",
   "name": "python3"
  },
  "language_info": {
   "codemirror_mode": {
    "name": "ipython",
    "version": 3
   },
   "file_extension": ".py",
   "mimetype": "text/x-python",
   "name": "python",
   "nbconvert_exporter": "python",
   "pygments_lexer": "ipython3",
   "version": "3.6.3"
  }
 },
 "nbformat": 4,
 "nbformat_minor": 2
}
